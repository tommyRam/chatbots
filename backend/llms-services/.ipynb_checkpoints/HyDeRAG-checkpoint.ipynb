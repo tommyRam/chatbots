{
 "cells": [
  {
   "cell_type": "code",
   "execution_count": 1,
   "id": "c6e90a02-1aa9-4119-8405-2370d9366707",
   "metadata": {},
   "outputs": [],
   "source": [
    "from dotenv import load_dotenv, find_dotenv\n",
    "\n",
    "_ = load_dotenv(find_dotenv())"
   ]
  },
  {
   "cell_type": "code",
   "execution_count": 2,
   "id": "88200009-a928-4f7c-9e98-8f046cda9840",
   "metadata": {},
   "outputs": [],
   "source": [
    "from langchain.prompts import ChatPromptTemplate\n",
    "\n",
    "# HyDE document genration\n",
    "template = \"\"\"Please write a scientific paper passage to answer the question\n",
    "Question: {question}\n",
    "Passage:\"\"\"\n",
    "prompt_hyde = ChatPromptTemplate.from_template(template)"
   ]
  },
  {
   "cell_type": "code",
   "execution_count": 4,
   "id": "dabe6980-657f-4e3a-9a26-97870c09e402",
   "metadata": {},
   "outputs": [
    {
     "data": {
      "text/plain": [
       "\"To accurately identify the author of a book and provide a comprehensive summary of its content, the specific title of the literary work must first be provided. Without this foundational information, a precise answer remains unattainable.\\n\\nHowever, the general approach to addressing such a query within a scientific or academic context would involve two distinct components:\\n\\n1.  **Author Identification:** The author is the individual or collective entity credited with the creation of the text. This information is typically found on the title page of the book, in its bibliographic data, and within academic databases. For instance, if the book in question were *On the Origin of Species*, the author would be identified as Charles Darwin.\\n\\n2.  **Content Summary:** A concise summary of the book's content would delineate its central thesis, primary arguments, scope, and key findings or contributions. This involves distilling the core message and the principal topics explored. Continuing the example of *On the Origin of Species*, the book primarily details the theory of evolution by natural selection, presenting extensive evidence for the diversification of life forms over geological time through a process of descent with modification. It systematically argues that species gradually evolve from common ancestors through natural selection acting on heritable variations, leading to adaptation and the formation of new species.\\n\\nTherefore, to provide a specific response, the title of the book in question is required.\""
      ]
     },
     "execution_count": 4,
     "metadata": {},
     "output_type": "execute_result"
    }
   ],
   "source": [
    "from langchain_google_genai import ChatGoogleGenerativeAI\n",
    "from langchain_core.output_parsers import StrOutputParser\n",
    "\n",
    "llm = ChatGoogleGenerativeAI(model=\"models/gemini-2.5-flash-preview-05-20\", temperature=0)\n",
    "\n",
    "generate_docs_for_retrieval = (\n",
    "    prompt_hyde | llm | StrOutputParser() \n",
    ")\n",
    "\n",
    "question = \"What is the name of the writter of the book and what the book says about ?\"\n",
    "\n",
    "generate_docs_for_retrieval.invoke({\"question\":question})"
   ]
  },
  {
   "cell_type": "code",
   "execution_count": 5,
   "id": "ff02e430-ec9c-4477-a8e9-df9e322cb1e6",
   "metadata": {},
   "outputs": [],
   "source": [
    "from langchain_community.document_loaders import PyPDFLoader\n",
    "from langchain.text_splitter import RecursiveCharacterTextSplitter\n",
    "from langchain_community.vectorstores import Chroma\n",
    "from langchain_google_genai import GoogleGenerativeAIEmbeddings\n",
    "\n",
    "doc_path = \"dev-data/Be_Good.pdf\"\n",
    "loader = PyPDFLoader(doc_path)\n",
    "\n",
    "doc = loader.load()\n",
    "\n",
    "text_splitter = RecursiveCharacterTextSplitter(chunk_size=500, chunk_overlap=50)\n",
    "doc_splits = text_splitter.split_documents(doc)\n",
    "\n",
    "chromadb = Chroma.from_documents(\n",
    "    documents=doc_splits,\n",
    "    embedding=GoogleGenerativeAIEmbeddings(model=\"models/text-embedding-004\")\n",
    ")\n",
    "retriever = chromadb.as_retriever()"
   ]
  },
  {
   "cell_type": "code",
   "execution_count": 6,
   "id": "fa0184eb-e465-4e4b-a1e1-e7d7891d97ae",
   "metadata": {},
   "outputs": [
    {
     "data": {
      "text/plain": [
       "[Document(metadata={'producer': 'PyFPDF 1.7.2 http://pyfpdf.googlecode.com/', 'creator': 'PyPDF', 'title': 'Be Good - Essay by Paul Graham', 'page_label': '3', 'page': 2, 'author': 'Paul Graham', 'source': 'dev-data/Be_Good.pdf', 'creationdate': 'D:20240613143635', 'total_pages': 11}, page_content=\"know when I come across a powerful one.One way to guess how far an idea extends is to ask\\nyourself at what\\npoint you'd bet against it.  The thought of betting against benevolence\\nis alarming in the same way as saying that something is technically\\nPage 3\"),\n",
       " Document(metadata={'page': 9, 'title': 'Be Good - Essay by Paul Graham', 'page_label': '10', 'creator': 'PyPDF', 'total_pages': 11, 'creationdate': 'D:20240613143635', 'author': 'Paul Graham', 'producer': 'PyFPDF 1.7.2 http://pyfpdf.googlecode.com/', 'source': 'dev-data/Be_Good.pdf'}, page_content=\"either.  And starting an organic farm, though it's at least\\nstraightforwardly benevolent, doesn't help people on the scale that\\nPage 10\"),\n",
       " Document(metadata={'total_pages': 11, 'producer': 'PyFPDF 1.7.2 http://pyfpdf.googlecode.com/', 'creationdate': 'D:20240613143635', 'page': 0, 'page_label': '1', 'creator': 'PyPDF', 'author': 'Paul Graham', 'title': 'Be Good - Essay by Paul Graham', 'source': 'dev-data/Be_Good.pdf'}, page_content=\"be, but most startups would be happy to trade places with them.In Patrick O'Brian's novels, his\\nPage 1\"),\n",
       " Document(metadata={'total_pages': 11, 'author': 'Paul Graham', 'page_label': '9', 'page': 8, 'producer': 'PyFPDF 1.7.2 http://pyfpdf.googlecode.com/', 'source': 'dev-data/Be_Good.pdf', 'creationdate': 'D:20240613143635', 'creator': 'PyPDF', 'title': 'Be Good - Essay by Paul Graham'}, page_content=\"you have to have a stateless algorithm.  You can't have ulterior\\nmotives when you have 57 things going on at once, because you can't\\nremember them.  So our rule is just to do whatever's best for the\\nfounders.  Not because we're particularly benevolent, but because\\nit's the only algorithm that works on that scale.When you write something telling people to be good,\\nyou seem to be\\nclaiming to be good yourself.  So I want to say explicitly that I\")]"
      ]
     },
     "execution_count": 6,
     "metadata": {},
     "output_type": "execute_result"
    }
   ],
   "source": [
    "# Retrieve\n",
    "retrieval_chain = generate_docs_for_retrieval | retriever \n",
    "retireved_docs = retrieval_chain.invoke({\"question\":question})\n",
    "retireved_docs"
   ]
  },
  {
   "cell_type": "code",
   "execution_count": 7,
   "id": "1ccfcbb1-eec5-48ae-9973-dc964918209c",
   "metadata": {},
   "outputs": [
    {
     "data": {
      "text/plain": [
       "'The writer of the essay is **Paul Graham**.\\n\\nThe essay, titled \"Be Good,\" discusses the concept of **benevolence** and what it means to \"be good,\" including the implications of telling people to be good.'"
      ]
     },
     "execution_count": 7,
     "metadata": {},
     "output_type": "execute_result"
    }
   ],
   "source": [
    "# RAG\n",
    "template = \"\"\"Answer the following question based on this context:\n",
    "\n",
    "{context}\n",
    "\n",
    "Question: {question}\n",
    "\"\"\"\n",
    "\n",
    "prompt = ChatPromptTemplate.from_template(template)\n",
    "\n",
    "final_rag_chain = (\n",
    "    prompt\n",
    "    | llm\n",
    "    | StrOutputParser()\n",
    ")\n",
    "\n",
    "final_rag_chain.invoke({\"context\":retireved_docs,\"question\":question})"
   ]
  },
  {
   "cell_type": "code",
   "execution_count": null,
   "id": "e2ef446a-29f3-4b0a-ac62-f149a22fbe55",
   "metadata": {},
   "outputs": [],
   "source": []
  }
 ],
 "metadata": {
  "kernelspec": {
   "display_name": "Python 3 (ipykernel)",
   "language": "python",
   "name": "python3"
  },
  "language_info": {
   "codemirror_mode": {
    "name": "ipython",
    "version": 3
   },
   "file_extension": ".py",
   "mimetype": "text/x-python",
   "name": "python",
   "nbconvert_exporter": "python",
   "pygments_lexer": "ipython3",
   "version": "3.13.3"
  }
 },
 "nbformat": 4,
 "nbformat_minor": 5
}
