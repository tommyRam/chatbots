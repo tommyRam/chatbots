{
 "cells": [
  {
   "cell_type": "code",
   "execution_count": 2,
   "id": "63a18da0-9c44-49d0-aac1-1a342b9f2d94",
   "metadata": {},
   "outputs": [],
   "source": [
    "from dotenv import load_dotenv, find_dotenv\n",
    "\n",
    "_ = load_dotenv(find_dotenv())"
   ]
  },
  {
   "cell_type": "code",
   "execution_count": 3,
   "id": "68c61991-a4fa-4fe5-bf59-36ee692e1826",
   "metadata": {},
   "outputs": [],
   "source": [
    "import bs4\n",
    "from langchain import hub\n",
    "from langchain.text_splitter import RecursiveCharacterTextSplitter\n",
    "from langchain_community.document_loaders import PyPDFLoader\n",
    "from langchain_community.vectorstores import Chroma\n",
    "from langchain_core.output_parsers import StrOutputParser\n",
    "from langchain_core.runnables import RunnablePassthrough\n",
    "from langchain_google_genai import ChatGoogleGenerativeAI, GoogleGenerativeAIEmbeddings"
   ]
  },
  {
   "cell_type": "markdown",
   "id": "74491c6e-2d4c-4b14-a1dd-d20bbeecc324",
   "metadata": {},
   "source": [
    "### INDEXING"
   ]
  },
  {
   "cell_type": "code",
   "execution_count": 4,
   "id": "96b19b9a-494f-40c4-a945-2b4e180ebaac",
   "metadata": {},
   "outputs": [],
   "source": [
    "# Load Documents\n",
    "doc_path = \"dev-data/Be_Good.pdf\"\n",
    "loader = PyPDFLoader(doc_path)\n",
    "docs = loader.load()\n",
    "\n",
    "# Split\n",
    "text_splitter = RecursiveCharacterTextSplitter(\n",
    "    chunk_size=1000,\n",
    "    chunk_overlap=200\n",
    ")\n",
    "splits = text_splitter.split_documents(docs)\n",
    "\n",
    "# Embed\n",
    "vectorestore = Chroma.from_documents(\n",
    "    documents=splits,\n",
    "    embedding=GoogleGenerativeAIEmbeddings(model=\"models/text-embedding-004\")\n",
    ")\n",
    "\n",
    "retriever = vectorestore.as_retriever(search_kwargs={\"k\": 1})"
   ]
  },
  {
   "cell_type": "markdown",
   "id": "54f659fe-80d8-4769-be63-d50a70cf6344",
   "metadata": {},
   "source": [
    "### RETRIEVEAL and GENERATION"
   ]
  },
  {
   "cell_type": "code",
   "execution_count": 5,
   "id": "8072da98-9013-4da1-91a3-7a73a61e9c0c",
   "metadata": {},
   "outputs": [
    {
     "name": "stderr",
     "output_type": "stream",
     "text": [
      "C:\\Users\\Tommy RAMAROKOTO\\Documents\\programmation\\projects\\New folder\\chatbots\\backend\\.venv\\Lib\\site-packages\\langsmith\\client.py:272: LangSmithMissingAPIKeyWarning: API key must be provided when using hosted LangSmith API\n",
      "  warnings.warn(\n"
     ]
    },
    {
     "name": "stdout",
     "output_type": "stream",
     "text": [
      "it's the only algorithm that works on that scale.When you write something telling people to be good,\n",
      "you seem to be\n",
      "claiming to be good yourself.  So I want to say explicitly that I\n",
      "am not a particularly good person.  When I was a kid I was firmly\n",
      "in the camp of bad.  The way adults used the word good, it seemed\n",
      "to be synonymous with quiet, so I grew up very suspicious of it.You know how there are some\n",
      "people whose names come up in conversation\n",
      "and everyone says \"He's such a great guy?\"  People never say\n",
      "that about me.  The best I get is \"he means well.\"  I am not claiming\n",
      "to be good.  At best I speak good as a second language.So I'm not suggesting you be good in the\n",
      "usual sanctimonious way.\n",
      "I'm suggesting it because it works.  It will work not just as a\n",
      "statement of \"values,\" but as a guide to strategy,\n",
      "and even a design spec for software.  Don't just not be evil.  Be\n",
      "Page 9\n",
      "\n"
     ]
    },
    {
     "data": {
      "text/plain": [
       "\"I apologize, but the provided context does not contain information about the writer of the book. It only includes the author's personal reflections without mentioning their name.\""
      ]
     },
     "execution_count": 5,
     "metadata": {},
     "output_type": "execute_result"
    }
   ],
   "source": [
    "# Prompt \n",
    "prompt = hub.pull(\"rlm/rag-prompt\")\n",
    "\n",
    "# LLM\n",
    "llm = ChatGoogleGenerativeAI(model=\"models/gemini-2.5-flash-preview-05-20\")\n",
    "\n",
    "# Post-processing \n",
    "def format_docs(docs):\n",
    "    for doc in docs:\n",
    "        print(doc.page_content, end=\"\\n\\n\")\n",
    "    return \"\\n\\n\".join(doc.page_content for doc in docs)\n",
    "\n",
    "# Chain\n",
    "rag_chain = (\n",
    "    {\"context\": retriever | format_docs, \"question\": RunnablePassthrough()}\n",
    "    | prompt\n",
    "    | llm\n",
    "    | StrOutputParser()\n",
    ")\n",
    "\n",
    "# Question\n",
    "rag_chain.invoke(\"Who is the writter of the book\")"
   ]
  },
  {
   "cell_type": "code",
   "execution_count": null,
   "id": "a0798afd-3e88-4d01-82d9-184650b00282",
   "metadata": {},
   "outputs": [],
   "source": []
  }
 ],
 "metadata": {
  "kernelspec": {
   "display_name": "Python 3 (ipykernel)",
   "language": "python",
   "name": "python3"
  },
  "language_info": {
   "codemirror_mode": {
    "name": "ipython",
    "version": 3
   },
   "file_extension": ".py",
   "mimetype": "text/x-python",
   "name": "python",
   "nbconvert_exporter": "python",
   "pygments_lexer": "ipython3",
   "version": "3.13.3"
  }
 },
 "nbformat": 4,
 "nbformat_minor": 5
}
