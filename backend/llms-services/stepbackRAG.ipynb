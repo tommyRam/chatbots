{
 "cells": [
  {
   "cell_type": "code",
   "execution_count": 2,
   "id": "6786149f-b080-4cb8-94dd-298fc03a9c8b",
   "metadata": {},
   "outputs": [],
   "source": [
    "from dotenv import load_dotenv, find_dotenv\n",
    "\n",
    "_ = load_dotenv(find_dotenv())"
   ]
  },
  {
   "cell_type": "code",
   "execution_count": 1,
   "id": "2b4e1dad-d015-4812-a54a-cc67f56d9e84",
   "metadata": {},
   "outputs": [],
   "source": [
    "from langchain_core.prompts import ChatPromptTemplate, FewShotChatMessagePromptTemplate\n",
    "examples = [\n",
    "    {\n",
    "        \"input\": \"Could the members of The Police perform lawful arrests?\",\n",
    "        \"output\": \"what can the members of The Police do?\",\n",
    "    },\n",
    "    {\n",
    "        \"input\": \"Jan Sindel’s was born in what country?\",\n",
    "        \"output\": \"what is Jan Sindel’s personal history?\",\n",
    "    },\n",
    "]\n",
    "# We now transform these to example messages\n",
    "example_prompt = ChatPromptTemplate.from_messages(\n",
    "    [\n",
    "        (\"human\", \"{input}\"),\n",
    "        (\"ai\", \"{output}\"),\n",
    "    ]\n",
    ")\n",
    "few_shot_prompt = FewShotChatMessagePromptTemplate(\n",
    "    example_prompt=example_prompt,\n",
    "    examples=examples,\n",
    ")\n",
    "prompt = ChatPromptTemplate.from_messages(\n",
    "    [\n",
    "        (\n",
    "            \"system\",\n",
    "            \"\"\"You are an expert at world knowledge. Your task is to step back and paraphrase a question to a more generic step-back question, which is easier to answer. Here are a few examples:\"\"\",\n",
    "        ),\n",
    "        # Few shot examples\n",
    "        few_shot_prompt,\n",
    "        # New question\n",
    "        (\"user\", \"{question}\"),\n",
    "    ]\n",
    ")"
   ]
  },
  {
   "cell_type": "code",
   "execution_count": 6,
   "id": "9f01b5b1-b8b5-4c2d-823a-c2239437273e",
   "metadata": {},
   "outputs": [
    {
     "data": {
      "text/plain": [
       "'What information is available about this book?'"
      ]
     },
     "execution_count": 6,
     "metadata": {},
     "output_type": "execute_result"
    }
   ],
   "source": [
    "from langchain_google_genai import ChatGoogleGenerativeAI\n",
    "from langchain_core.output_parsers import StrOutputParser\n",
    "\n",
    "llm = ChatGoogleGenerativeAI(model=\"models/gemini-2.5-flash-preview-05-20\", temperature=0)\n",
    "\n",
    "generate_queries_step_back = prompt | llm | StrOutputParser()\n",
    "question = \"What is the name of the writter of the book and what the book says about ?\"\n",
    "generate_queries_step_back.invoke({\"question\": question})"
   ]
  },
  {
   "cell_type": "code",
   "execution_count": 8,
   "id": "ec21da25-69ab-44f5-89a3-2b6ff08b7a62",
   "metadata": {},
   "outputs": [],
   "source": [
    "from langchain_community.document_loaders import PyPDFLoader\n",
    "from langchain.text_splitter import RecursiveCharacterTextSplitter\n",
    "from langchain_community.vectorstores import Chroma\n",
    "from langchain_google_genai import GoogleGenerativeAIEmbeddings\n",
    "\n",
    "doc_path = \"dev-data/Be_Good.pdf\"\n",
    "loader = PyPDFLoader(doc_path)\n",
    "\n",
    "doc = loader.load()\n",
    "\n",
    "text_splitter = RecursiveCharacterTextSplitter(chunk_size=500, chunk_overlap=50)\n",
    "doc_splits = text_splitter.split_documents(doc)\n",
    "\n",
    "chromadb = Chroma.from_documents(\n",
    "    documents=doc_splits,\n",
    "    embedding=GoogleGenerativeAIEmbeddings(model=\"models/text-embedding-004\")\n",
    ")\n",
    "retriever = chromadb.as_retriever()"
   ]
  },
  {
   "cell_type": "code",
   "execution_count": 10,
   "id": "c96d5961-d2d1-4e59-8dba-ec82cd14ccb2",
   "metadata": {},
   "outputs": [],
   "source": [
    "from langchain_core.runnables import RunnableLambda\n",
    "\n",
    "# Response prompt \n",
    "response_prompt_template = \"\"\"You are an expert of world knowledge. I am going to ask you a question. Your response should be comprehensive and not contradicted with the following context if they are relevant. Otherwise, ignore them if they are not relevant.\n",
    "\n",
    "# {normal_context}\n",
    "# {step_back_context}\n",
    "\n",
    "# Original Question: {question}\n",
    "# Answer:\"\"\"\n",
    "response_prompt = ChatPromptTemplate.from_template(response_prompt_template)\n",
    "\n",
    "chain = (\n",
    "    {\n",
    "        \"normal_context\": RunnableLambda(lambda x: x[\"question\"]) | retriever,\n",
    "        \"step_back_context\": generate_queries_step_back | retriever,\n",
    "        \"question\": lambda x: x[\"question\"]\n",
    "    }\n",
    "    | response_prompt\n",
    "    | llm\n",
    "    | StrOutputParser()\n",
    ")"
   ]
  },
  {
   "cell_type": "code",
   "execution_count": 11,
   "id": "a4305454-0ddb-4541-9d27-54286025792e",
   "metadata": {},
   "outputs": [
    {
     "data": {
      "text/plain": [
       "'The writer of the essay is **Paul Graham**.\\n\\nThe essay, titled \"Be Good,\" discusses the concept of \"being good\" or \"benevolence\" not merely as a moral imperative, but as a powerful and effective strategy. Paul Graham argues that benevolence is a fundamental force that can lead to success, even in areas like business and technology. He suggests that:\\n\\n*   **Benevolence is a powerful force:** It\\'s something one would be foolish to bet against, akin to a fundamental principle.\\n*   **It provides a sense of mission:** Doing good for people can give a sense of purpose that makes individuals more resilient and dedicated.\\n*   **It attracts help from others:** Being good makes other people want to assist you, which is described as an inborn human trait.\\n*   **It\\'s a practical strategy:** Graham emphasizes that he is not advocating for goodness in a sanctimonious way, but because \"it works.\" He suggests it can serve as a guide for strategy and even a design specification for software, citing examples like Google and early Microsoft.\\n\\nIn essence, the essay explores the practical advantages and strategic benefits of adopting a benevolent approach, asserting that it is a highly effective way to operate.'"
      ]
     },
     "execution_count": 11,
     "metadata": {},
     "output_type": "execute_result"
    }
   ],
   "source": [
    "chain.invoke({\"question\": question})"
   ]
  },
  {
   "cell_type": "code",
   "execution_count": null,
   "id": "fe8c39ea-8a9e-4f5a-8f38-2f8f32c5b616",
   "metadata": {},
   "outputs": [],
   "source": []
  }
 ],
 "metadata": {
  "kernelspec": {
   "display_name": "Python 3 (ipykernel)",
   "language": "python",
   "name": "python3"
  },
  "language_info": {
   "codemirror_mode": {
    "name": "ipython",
    "version": 3
   },
   "file_extension": ".py",
   "mimetype": "text/x-python",
   "name": "python",
   "nbconvert_exporter": "python",
   "pygments_lexer": "ipython3",
   "version": "3.12.3"
  }
 },
 "nbformat": 4,
 "nbformat_minor": 5
}
